{
 "cells": [
  {
   "cell_type": "code",
   "execution_count": 1,
   "id": "733e9189-8342-49af-bebe-39829986cc1b",
   "metadata": {},
   "outputs": [],
   "source": [
    "import numpy as np\n",
    "import matplotlib.pyplot as plt"
   ]
  },
  {
   "cell_type": "code",
   "execution_count": null,
   "id": "5620e563-23b4-4723-a4a1-03c8d1300f52",
   "metadata": {},
   "outputs": [],
   "source": [
    "class Perceptron():\n",
    "    def __init__(self, lr=0.01, n_iter=50):\n",
    "        self.lr = lr\n",
    "        self.n_iter = n_iter\n",
    "        \n",
    "    def output(self, X):\n",
    "        return np.dot(X, self.w_[1:]) + self.w_[0]\n",
    "        \n",
    "    def predict(self, X):\n",
    "        return np.where(self.output(X)>=0.0, 1, 0)\n",
    "        \n",
    "    def fit(self, X, y):\n",
    "        self.w_ = np.random.normal(size = X.shape[1]+1)\n",
    "        self.errors = []\n",
    "        for _ in range(n_iter):\n",
    "            error = 0\n",
    "            for xi, target in zip(X, y)\n",
    "                y_pre = self.predict(X)\n",
    "                update = self.lr * (target - y_pre)\n",
    "                self.w_[1:] += update * xi\n",
    "                self.w_[0] += update"
   ]
  }
 ],
 "metadata": {
  "kernelspec": {
   "display_name": "Python 3 (ipykernel)",
   "language": "python",
   "name": "python3"
  },
  "language_info": {
   "codemirror_mode": {
    "name": "ipython",
    "version": 3
   },
   "file_extension": ".py",
   "mimetype": "text/x-python",
   "name": "python",
   "nbconvert_exporter": "python",
   "pygments_lexer": "ipython3",
   "version": "3.11.3"
  }
 },
 "nbformat": 4,
 "nbformat_minor": 5
}
