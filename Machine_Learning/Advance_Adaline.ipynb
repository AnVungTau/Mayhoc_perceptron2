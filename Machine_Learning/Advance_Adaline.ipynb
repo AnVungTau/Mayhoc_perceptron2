{
 "cells": [
  {
   "cell_type": "code",
   "execution_count": 1,
   "id": "5d0986b2-f632-4438-90da-37e6977a2dde",
   "metadata": {},
   "outputs": [],
   "source": [
    "import numpy as np\n",
    "import pandas as pd\n",
    "import matplotlib.pyplot as plt\n",
    "import time"
   ]
  },
  {
   "cell_type": "code",
   "execution_count": 3,
   "id": "ad1b163d-a682-4ba6-8186-54344907cc50",
   "metadata": {},
   "outputs": [
    {
     "data": {
      "text/html": [
       "<div>\n",
       "<style scoped>\n",
       "    .dataframe tbody tr th:only-of-type {\n",
       "        vertical-align: middle;\n",
       "    }\n",
       "\n",
       "    .dataframe tbody tr th {\n",
       "        vertical-align: top;\n",
       "    }\n",
       "\n",
       "    .dataframe thead th {\n",
       "        text-align: right;\n",
       "    }\n",
       "</style>\n",
       "<table border=\"1\" class=\"dataframe\">\n",
       "  <thead>\n",
       "    <tr style=\"text-align: right;\">\n",
       "      <th></th>\n",
       "      <th>x1</th>\n",
       "      <th>x2</th>\n",
       "      <th>x3</th>\n",
       "      <th>x4</th>\n",
       "      <th>y</th>\n",
       "    </tr>\n",
       "  </thead>\n",
       "  <tbody>\n",
       "    <tr>\n",
       "      <th>50</th>\n",
       "      <td>7.0</td>\n",
       "      <td>3.2</td>\n",
       "      <td>4.7</td>\n",
       "      <td>1.4</td>\n",
       "      <td>0</td>\n",
       "    </tr>\n",
       "    <tr>\n",
       "      <th>51</th>\n",
       "      <td>6.4</td>\n",
       "      <td>3.2</td>\n",
       "      <td>4.5</td>\n",
       "      <td>1.5</td>\n",
       "      <td>0</td>\n",
       "    </tr>\n",
       "    <tr>\n",
       "      <th>52</th>\n",
       "      <td>6.9</td>\n",
       "      <td>3.1</td>\n",
       "      <td>4.9</td>\n",
       "      <td>1.5</td>\n",
       "      <td>0</td>\n",
       "    </tr>\n",
       "    <tr>\n",
       "      <th>53</th>\n",
       "      <td>5.5</td>\n",
       "      <td>2.3</td>\n",
       "      <td>4.0</td>\n",
       "      <td>1.3</td>\n",
       "      <td>0</td>\n",
       "    </tr>\n",
       "    <tr>\n",
       "      <th>54</th>\n",
       "      <td>6.5</td>\n",
       "      <td>2.8</td>\n",
       "      <td>4.6</td>\n",
       "      <td>1.5</td>\n",
       "      <td>0</td>\n",
       "    </tr>\n",
       "  </tbody>\n",
       "</table>\n",
       "</div>"
      ],
      "text/plain": [
       "     x1   x2   x3   x4  y\n",
       "50  7.0  3.2  4.7  1.4  0\n",
       "51  6.4  3.2  4.5  1.5  0\n",
       "52  6.9  3.1  4.9  1.5  0\n",
       "53  5.5  2.3  4.0  1.3  0\n",
       "54  6.5  2.8  4.6  1.5  0"
      ]
     },
     "execution_count": 3,
     "metadata": {},
     "output_type": "execute_result"
    }
   ],
   "source": [
    "df = pd.read_csv(\"./Datasets/iris.data\", index_col=None, header=None)\n",
    "df.columns = ['x1', 'x2', 'x3', 'x4', 'y']\n",
    "df = df.iloc[50:150]\n",
    "df['y'] = df['y'].apply(lambda x: 0 if x == 'Iris-versicolor' else 1)\n",
    "df.head()"
   ]
  },
  {
   "cell_type": "code",
   "execution_count": 4,
   "id": "11241751-a490-4e77-a1d8-1dd3b8fcc03b",
   "metadata": {},
   "outputs": [],
   "source": [
    "X = df[['x2','x3']].values.astype(np.float32)\n",
    "y = df['y'].values.astype(np.int32)\n",
    "\n",
    "np.random.seed(123)\n",
    "shuffle_idx = np.random.permutation(y.size)\n",
    "\n",
    "X, y = X[shuffle_idx], y[shuffle_idx]\n",
    "percent70 = int(len(shuffle_idx)*0.7)\n",
    "\n",
    "X_train, X_test = X[:percent70], X[percent70:]\n",
    "y_train, y_test = y[:percent70], y[percent70:]\n",
    "\n",
    "mu, sigma = X_train.mean(axis=0), X_train.std(axis=0)\n",
    "X_train = (X_train - mu)/sigma\n",
    "X_test = (X_test - mu)/sigma"
   ]
  },
  {
   "cell_type": "code",
   "execution_count": 5,
   "id": "cf36dd35-e79b-4cb2-a7d9-7295480c263e",
   "metadata": {},
   "outputs": [
    {
     "data": {
      "image/png": "[encoded data removed]",
      "text/plain": [
       "<Figure size 640x480 with 1 Axes>"
      ]
     },
     "metadata": {},
     "output_type": "display_data"
    }
   ],
   "source": [
    "plt.scatter(X_train[y_train == 0, 0], X_train[y_train==0, 1], label = \"class 0\")\n",
    "plt.scatter(X_train[y_train == 1, 0], X_train[y_train==1, 1], label = \"class 1\")\n",
    "plt.legend()\n",
    "plt.show()"
   ]
  },
  {
   "cell_type": "code",
   "execution_count": 6,
   "id": "7b5ff59f-5fee-4f33-bc85-40f71d6007d3",
   "metadata": {},
   "outputs": [
    {
     "data": {
      "image/png": "[encoded data removed]",
      "text/plain": [
       "<Figure size 640x480 with 1 Axes>"
      ]
     },
     "metadata": {},
     "output_type": "display_data"
    }
   ],
   "source": [
    "plt.scatter(X_test[y_test == 0, 0], X_test[y_test==0, 1], label = \"class 0\")\n",
    "plt.scatter(X_test[y_test == 1, 0], X_test[y_test==1, 1], label = \"class 1\")\n",
    "plt.legend()\n",
    "plt.show()"
   ]
  },
  {
   "cell_type": "markdown",
   "id": "419de9c9-279c-413b-98c2-4ed2863a612a",
   "metadata": {},
   "source": [
    "# Tạo mô hình Adaline Advance"
   ]
  },
  {
   "cell_type": "code",
   "execution_count": 7,
   "id": "8a929378-992b-4057-9e1c-d3b55bc39f45",
   "metadata": {},
   "outputs": [],
   "source": [
    "class AdalineAdvance():\n",
    "    def __init__(self, num_features):\n",
    "        self.num_features = num_features\n",
    "        self.weights = np.zeros((num_features,1), dtype=np.float32)\n",
    "        self.bias = np.zeros((1,), dtype=np.float32)\n",
    "    \n",
    "    def forward(self,x):\n",
    "        netinputs = np.dot(x, self.weights) + self.bias\n",
    "        activations = netinputs\n",
    "        return activations.reshape(-1)\n",
    "    \n",
    "    def backward(self, x, yhat, y):\n",
    "        grad_loss_yhat = y - yhat\n",
    "        grad_yhat_weights = x\n",
    "        grad_yhat_bias = 1.\n",
    "        \n",
    "        # Chain rule: inner times outer // Quy tắc dây chuyền: số lần vào bằng số lần ra\n",
    "        grad_loss_weights = 2* -np.dot(grad_yhat_weights.T, grad_loss_yhat.reshape(-1,1)) / y.shape[0]\n",
    "        grad_loss_bias = 2* -np.sum(grad_yhat_bias*grad_loss_yhat) / y.shape[0]\n",
    "        return (-1.0)*grad_loss_weights, (-1.0)*grad_loss_bias"
   ]
  },
  {
   "cell_type": "markdown",
   "id": "02fd64cc-7810-40fc-aa55-0cad6fbc7464",
   "metadata": {},
   "source": [
    "# Định nghĩa hàm training và hàm đánh giá"
   ]
  },
  {
   "cell_type": "code",
   "execution_count": 8,
   "id": "8687fed6-a76b-458f-8cb3-864edeeeedc7",
   "metadata": {},
   "outputs": [],
   "source": [
    "def loss(yhat, y):\n",
    "    return np.mean((yhat-y)**2)\n",
    "\n",
    "def train(model, x, y, num_epochs, learning_rate = 0.01, seed = 123, minibatch_size=10):\n",
    "    cost = []\n",
    "    np.random.seed(seed)\n",
    "    for e in range(num_epochs):\n",
    "        ###shuffle epoch\n",
    "        shuffle_idx = np.random.permutation(y.size)\n",
    "        minibatches = np.array_split(shuffle_idx, minibatch_size)\n",
    "        for minibatch_idx in minibatches:\n",
    "            # Tính đầu ra\n",
    "            yhat = model.forward(x[minibatch_idx])\n",
    "            \n",
    "            # Tính toán độ dốc\n",
    "            negative_grad_w, negative_grad_b = model.backward(x[minibatch_idx], yhat, y[minibatch_idx])\n",
    "            \n",
    "            # Cập nhật lại trong số\n",
    "            model.weights += learning_rate * negative_grad_w\n",
    "            model.bias += learning_rate * negative_grad_b\n",
    "            \n",
    "            # Khai thác\n",
    "            minibatch_loss = loss(yhat, y[minibatch_idx])\n",
    "            print('    Minibatch MSE: %.3f' % minibatch_loss)\n",
    "            \n",
    "        # Khai thác\n",
    "        yhat = model.forward(x)\n",
    "        curr_loss = loss(yhat, y)\n",
    "        print('Epoch: %03d' % (e+1), end=\"\")\n",
    "        print(' | MSE: %.5f' % curr_loss)\n",
    "        cost.append(curr_loss)\n",
    "        \n",
    "    return cost"
   ]
  },
  {
   "cell_type": "markdown",
   "id": "59ddc0cf-f89f-4cd9-a939-a168d6851a3b",
   "metadata": {},
   "source": [
    "# Training model hồi quy tuyến tính"
   ]
  },
  {
   "cell_type": "code",
   "execution_count": 10,
   "id": "c30eed61-7faa-4b1e-ace3-540e76c45201",
   "metadata": {},
   "outputs": [
    {
     "name": "stdout",
     "output_type": "stream",
     "text": [
      "    Minibatch MSE: 0.429\n",
      "    Minibatch MSE: 0.415\n",
      "    Minibatch MSE: 0.074\n",
      "    Minibatch MSE: 0.283\n",
      "    Minibatch MSE: 0.118\n",
      "    Minibatch MSE: 0.332\n",
      "    Minibatch MSE: 0.116\n",
      "    Minibatch MSE: 0.157\n",
      "    Minibatch MSE: 0.115\n",
      "    Minibatch MSE: 0.071\n",
      "Epoch: 001 | MSE: 0.10066\n",
      "    Minibatch MSE: 0.080\n",
      "    Minibatch MSE: 0.143\n",
      "    Minibatch MSE: 0.075\n",
      "    Minibatch MSE: 0.098\n",
      "    Minibatch MSE: 0.133\n",
      "    Minibatch MSE: 0.112\n",
      "    Minibatch MSE: 0.061\n",
      "    Minibatch MSE: 0.079\n",
      "    Minibatch MSE: 0.110\n",
      "    Minibatch MSE: 0.113\n",
      "Epoch: 002 | MSE: 0.09305\n",
      "    Minibatch MSE: 0.089\n",
      "    Minibatch MSE: 0.104\n",
      "    Minibatch MSE: 0.099\n",
      "    Minibatch MSE: 0.094\n",
      "    Minibatch MSE: 0.056\n",
      "    Minibatch MSE: 0.132\n",
      "    Minibatch MSE: 0.069\n",
      "    Minibatch MSE: 0.072\n",
      "    Minibatch MSE: 0.105\n",
      "    Minibatch MSE: 0.141\n",
      "Epoch: 003 | MSE: 0.09212\n",
      "    Minibatch MSE: 0.097\n",
      "    Minibatch MSE: 0.111\n",
      "    Minibatch MSE: 0.042\n",
      "    Minibatch MSE: 0.052\n",
      "    Minibatch MSE: 0.095\n",
      "    Minibatch MSE: 0.091\n",
      "    Minibatch MSE: 0.108\n",
      "    Minibatch MSE: 0.105\n",
      "    Minibatch MSE: 0.146\n",
      "    Minibatch MSE: 0.102\n",
      "Epoch: 004 | MSE: 0.09271\n",
      "    Minibatch MSE: 0.153\n",
      "    Minibatch MSE: 0.047\n",
      "    Minibatch MSE: 0.072\n",
      "    Minibatch MSE: 0.097\n",
      "    Minibatch MSE: 0.070\n",
      "    Minibatch MSE: 0.104\n",
      "    Minibatch MSE: 0.187\n",
      "    Minibatch MSE: 0.088\n",
      "    Minibatch MSE: 0.088\n",
      "    Minibatch MSE: 0.034\n",
      "Epoch: 005 | MSE: 0.09069\n",
      "    Minibatch MSE: 0.099\n",
      "    Minibatch MSE: 0.105\n",
      "    Minibatch MSE: 0.159\n",
      "    Minibatch MSE: 0.049\n",
      "    Minibatch MSE: 0.111\n",
      "    Minibatch MSE: 0.059\n",
      "    Minibatch MSE: 0.053\n",
      "    Minibatch MSE: 0.159\n",
      "    Minibatch MSE: 0.036\n",
      "    Minibatch MSE: 0.116\n",
      "Epoch: 006 | MSE: 0.09408\n",
      "    Minibatch MSE: 0.058\n",
      "    Minibatch MSE: 0.185\n",
      "    Minibatch MSE: 0.161\n",
      "    Minibatch MSE: 0.110\n",
      "    Minibatch MSE: 0.069\n",
      "    Minibatch MSE: 0.074\n",
      "    Minibatch MSE: 0.092\n",
      "    Minibatch MSE: 0.044\n",
      "    Minibatch MSE: 0.106\n",
      "    Minibatch MSE: 0.059\n",
      "Epoch: 007 | MSE: 0.09064\n",
      "    Minibatch MSE: 0.125\n",
      "    Minibatch MSE: 0.098\n",
      "    Minibatch MSE: 0.098\n",
      "    Minibatch MSE: 0.091\n",
      "    Minibatch MSE: 0.057\n",
      "    Minibatch MSE: 0.134\n",
      "    Minibatch MSE: 0.065\n",
      "    Minibatch MSE: 0.081\n",
      "    Minibatch MSE: 0.058\n",
      "    Minibatch MSE: 0.148\n",
      "Epoch: 008 | MSE: 0.09174\n",
      "    Minibatch MSE: 0.098\n",
      "    Minibatch MSE: 0.116\n",
      "    Minibatch MSE: 0.121\n",
      "    Minibatch MSE: 0.028\n",
      "    Minibatch MSE: 0.070\n",
      "    Minibatch MSE: 0.060\n",
      "    Minibatch MSE: 0.113\n",
      "    Minibatch MSE: 0.097\n",
      "    Minibatch MSE: 0.167\n",
      "    Minibatch MSE: 0.090\n",
      "Epoch: 009 | MSE: 0.09169\n",
      "    Minibatch MSE: 0.042\n",
      "    Minibatch MSE: 0.072\n",
      "    Minibatch MSE: 0.128\n",
      "    Minibatch MSE: 0.191\n",
      "    Minibatch MSE: 0.074\n",
      "    Minibatch MSE: 0.078\n",
      "    Minibatch MSE: 0.038\n",
      "    Minibatch MSE: 0.143\n",
      "    Minibatch MSE: 0.092\n",
      "    Minibatch MSE: 0.115\n",
      "Epoch: 010 | MSE: 0.09077\n",
      "    Minibatch MSE: 0.106\n",
      "    Minibatch MSE: 0.131\n",
      "    Minibatch MSE: 0.112\n",
      "    Minibatch MSE: 0.175\n",
      "    Minibatch MSE: 0.111\n",
      "    Minibatch MSE: 0.060\n",
      "    Minibatch MSE: 0.052\n",
      "    Minibatch MSE: 0.103\n",
      "    Minibatch MSE: 0.047\n",
      "    Minibatch MSE: 0.045\n",
      "Epoch: 011 | MSE: 0.09120\n",
      "    Minibatch MSE: 0.073\n",
      "    Minibatch MSE: 0.101\n",
      "    Minibatch MSE: 0.058\n",
      "    Minibatch MSE: 0.067\n",
      "    Minibatch MSE: 0.113\n",
      "    Minibatch MSE: 0.053\n",
      "    Minibatch MSE: 0.083\n",
      "    Minibatch MSE: 0.143\n",
      "    Minibatch MSE: 0.125\n",
      "    Minibatch MSE: 0.157\n",
      "Epoch: 012 | MSE: 0.09223\n",
      "    Minibatch MSE: 0.053\n",
      "    Minibatch MSE: 0.088\n",
      "    Minibatch MSE: 0.033\n",
      "    Minibatch MSE: 0.079\n",
      "    Minibatch MSE: 0.133\n",
      "    Minibatch MSE: 0.107\n",
      "    Minibatch MSE: 0.086\n",
      "    Minibatch MSE: 0.117\n",
      "    Minibatch MSE: 0.101\n",
      "    Minibatch MSE: 0.143\n",
      "Epoch: 013 | MSE: 0.09056\n",
      "    Minibatch MSE: 0.082\n",
      "    Minibatch MSE: 0.190\n",
      "    Minibatch MSE: 0.119\n",
      "    Minibatch MSE: 0.063\n",
      "    Minibatch MSE: 0.028\n",
      "    Minibatch MSE: 0.082\n",
      "    Minibatch MSE: 0.065\n",
      "    Minibatch MSE: 0.123\n",
      "    Minibatch MSE: 0.079\n",
      "    Minibatch MSE: 0.115\n",
      "Epoch: 014 | MSE: 0.09132\n",
      "    Minibatch MSE: 0.222\n",
      "    Minibatch MSE: 0.082\n",
      "    Minibatch MSE: 0.114\n",
      "    Minibatch MSE: 0.058\n",
      "    Minibatch MSE: 0.111\n",
      "    Minibatch MSE: 0.045\n",
      "    Minibatch MSE: 0.094\n",
      "    Minibatch MSE: 0.080\n",
      "    Minibatch MSE: 0.063\n",
      "    Minibatch MSE: 0.064\n",
      "Epoch: 015 | MSE: 0.09212\n",
      "    Minibatch MSE: 0.089\n",
      "    Minibatch MSE: 0.068\n",
      "    Minibatch MSE: 0.084\n",
      "    Minibatch MSE: 0.088\n",
      "    Minibatch MSE: 0.064\n",
      "    Minibatch MSE: 0.154\n",
      "    Minibatch MSE: 0.065\n",
      "    Minibatch MSE: 0.015\n",
      "    Minibatch MSE: 0.160\n",
      "    Minibatch MSE: 0.163\n",
      "Epoch: 016 | MSE: 0.09138\n",
      "    Minibatch MSE: 0.077\n",
      "    Minibatch MSE: 0.137\n",
      "    Minibatch MSE: 0.100\n",
      "    Minibatch MSE: 0.164\n",
      "    Minibatch MSE: 0.163\n",
      "    Minibatch MSE: 0.052\n",
      "    Minibatch MSE: 0.118\n",
      "    Minibatch MSE: 0.069\n",
      "    Minibatch MSE: 0.044\n",
      "    Minibatch MSE: 0.028\n",
      "Epoch: 017 | MSE: 0.09073\n",
      "    Minibatch MSE: 0.032\n",
      "    Minibatch MSE: 0.130\n",
      "    Minibatch MSE: 0.074\n",
      "    Minibatch MSE: 0.073\n",
      "    Minibatch MSE: 0.151\n",
      "    Minibatch MSE: 0.100\n",
      "    Minibatch MSE: 0.067\n",
      "    Minibatch MSE: 0.053\n",
      "    Minibatch MSE: 0.200\n",
      "    Minibatch MSE: 0.066\n",
      "Epoch: 018 | MSE: 0.09043\n",
      "    Minibatch MSE: 0.071\n",
      "    Minibatch MSE: 0.049\n",
      "    Minibatch MSE: 0.089\n",
      "    Minibatch MSE: 0.142\n",
      "    Minibatch MSE: 0.114\n",
      "    Minibatch MSE: 0.081\n",
      "    Minibatch MSE: 0.095\n",
      "    Minibatch MSE: 0.154\n",
      "    Minibatch MSE: 0.091\n",
      "    Minibatch MSE: 0.060\n",
      "Epoch: 019 | MSE: 0.09085\n",
      "    Minibatch MSE: 0.151\n",
      "    Minibatch MSE: 0.135\n",
      "    Minibatch MSE: 0.096\n",
      "    Minibatch MSE: 0.096\n",
      "    Minibatch MSE: 0.074\n",
      "    Minibatch MSE: 0.070\n",
      "    Minibatch MSE: 0.030\n",
      "    Minibatch MSE: 0.101\n",
      "    Minibatch MSE: 0.048\n",
      "    Minibatch MSE: 0.155\n",
      "Epoch: 020 | MSE: 0.09035\n"
     ]
    }
   ],
   "source": [
    "start_time = time.time()\n",
    "model = AdalineAdvance(num_features=X_train.shape[1])\n",
    "cost = train(model, X_train, y_train, num_epochs=20, learning_rate=0.1, seed = 123, minibatch_size=10)\n",
    "end_time = time.time()\n",
    "adaline_time = end_time - start_time"
   ]
  },
  {
   "cell_type": "markdown",
   "id": "720c6db5-dc64-4e4c-8be6-952302100073",
   "metadata": {},
   "source": [
    "# Đánh giá model"
   ]
  },
  {
   "cell_type": "code",
   "execution_count": 11,
   "id": "07e8387a-973e-49ea-a7c8-ca65ceeb7de4",
   "metadata": {},
   "outputs": [
    {
     "data": {
      "image/png": "[encoded data removed]",
      "text/plain": [
       "<Figure size 640x480 with 1 Axes>"
      ]
     },
     "metadata": {},
     "output_type": "display_data"
    }
   ],
   "source": [
    "plt.plot(range(len(cost)), cost)\n",
    "plt.ylabel('Mean Squared Error')\n",
    "plt.xlabel('Epoch')\n",
    "plt.show()"
   ]
  },
  {
   "cell_type": "markdown",
   "id": "e20b0027-73c6-4bc9-93a2-eee2c5c43e89",
   "metadata": {},
   "source": [
    "# Ranh giới quyết định"
   ]
  },
  {
   "cell_type": "code",
   "execution_count": 12,
   "id": "9f8a706d-7920-4e46-b32e-f33fa4c7a8f4",
   "metadata": {},
   "outputs": [
    {
     "data": {
      "image/png": "[encoded data removed]",
      "text/plain": [
       "<Figure size 700x300 with 2 Axes>"
      ]
     },
     "metadata": {},
     "output_type": "display_data"
    }
   ],
   "source": [
    "w, b = model.weights, model.bias - 0.5\n",
    "\n",
    "x_min = -3\n",
    "y_min = ( (-(w[0] * x_min) - b[0]) \n",
    "          / w[1] )\n",
    "\n",
    "x_max = 3\n",
    "y_max = ( (-(w[0] * x_max) - b[0]) \n",
    "          / w[1] )\n",
    "\n",
    "\n",
    "fig, ax = plt.subplots(1, 2, sharex=True, figsize=(7, 3))\n",
    "\n",
    "ax[0].plot([x_min, x_max], [y_min, y_max])\n",
    "ax[1].plot([x_min, x_max], [y_min, y_max])\n",
    "\n",
    "ax[0].scatter(X_train[y_train==0, 0], X_train[y_train==0, 1], label='class 0', marker='o')\n",
    "ax[0].scatter(X_train[y_train==1, 0], X_train[y_train==1, 1], label='class 1', marker='s')\n",
    "\n",
    "ax[1].scatter(X_test[y_test==0, 0], X_test[y_test==0, 1], label='class 0', marker='o')\n",
    "ax[1].scatter(X_test[y_test==1, 0], X_test[y_test==1, 1], label='class 1', marker='s')\n",
    "\n",
    "ax[1].legend(loc='upper left')\n",
    "plt.show()"
   ]
  },
  {
   "cell_type": "code",
   "execution_count": 22,
   "id": "c335877f-d2b7-45d0-8b7b-1fd042a00703",
   "metadata": {},
   "outputs": [],
   "source": [
    "class Perceptron(object):\n",
    "    def __init__(self, eta = 0.01, n_iter = 5000):\n",
    "        self.eta = eta\n",
    "        self.n_iter = n_iter\n",
    "        \n",
    "    def output(self, X):\n",
    "        return np.dot(X, self.w_[1:]) + self.w_[0]\n",
    "    \n",
    "    def predict(self,X):\n",
    "        return np.where(self.output(X)>=0.0, 1, -1)\n",
    "    \n",
    "    def fit(self,X,y):\n",
    "        self.w_ = np.random.normal(size = X.shape[1]+1)\n",
    "        self.errors_ = []\n",
    "        for _ in range(self.n_iter):\n",
    "            errors = 0\n",
    "            for xi, target in zip(X, y):\n",
    "                pre = self.predict(xi)\n",
    "                update = self.eta * (target - pre)\n",
    "                self.w_[1:] += update*xi\n",
    "                self.w_[0] += update\n",
    "                errors += int(update!=0.0)\n",
    "            self.errors_.append(errors)\n",
    "        return self"
   ]
  },
  {
   "cell_type": "code",
   "execution_count": 23,
   "id": "b86b32ae-2f15-462e-be74-f3a505f79e5b",
   "metadata": {},
   "outputs": [],
   "source": [
    "start_time = time.time()\n",
    "nhiphan = Perceptron()\n",
    "kq = nhiphan.fit(X,y)\n",
    "end_time = time.time()\n",
    "MCP_time = end_time-start_time"
   ]
  },
  {
   "cell_type": "code",
   "execution_count": 24,
   "id": "c2134b7b-dce6-40b5-966c-b958f8444c5c",
   "metadata": {},
   "outputs": [
    {
     "data": {
      "image/png": "[encoded data removed]",
      "text/plain": [
       "<Figure size 700x300 with 2 Axes>"
      ]
     },
     "metadata": {},
     "output_type": "display_data"
    }
   ],
   "source": [
    "y_min = (-(kq.w_[1] * x_min) - kq.w_[0]) / kq.w_[2]\n",
    "y_max = (-(kq.w_[1] * x_max) - kq.w_[0]) / kq.w_[2]\n",
    "\n",
    "fig, ax = plt.subplots(1, 2, sharex=True, figsize=(7, 3))\n",
    "\n",
    "ax[0].plot([x_min, x_max], [y_min, y_max])\n",
    "ax[1].plot([x_min, x_max], [y_min, y_max])\n",
    "\n",
    "ax[0].scatter(X_train[y_train==0, 0], X_train[y_train==0, 1], label='class 0', marker='o')\n",
    "ax[0].scatter(X_train[y_train==1, 0], X_train[y_train==1, 1], label='class 1', marker='s')\n",
    "\n",
    "ax[1].scatter(X_test[y_test==0, 0], X_test[y_test==0, 1], label='class 0', marker='o')\n",
    "ax[1].scatter(X_test[y_test==1, 0], X_test[y_test==1, 1], label='class 1', marker='s')\n",
    "\n",
    "ax[1].legend(loc='upper left')\n",
    "plt.show()"
   ]
  },
  {
   "cell_type": "code",
   "execution_count": 16,
   "id": "ef4b9e99-864b-45b7-b0f7-75e4f7795c35",
   "metadata": {},
   "outputs": [
    {
     "name": "stdout",
     "output_type": "stream",
     "text": [
      "0.07758188247680664\n",
      "3.1077754497528076\n"
     ]
    }
   ],
   "source": [
    "print(adaline_time)\n",
    "print(MCP_time)"
   ]
  },
  {
   "cell_type": "code",
   "execution_count": null,
   "id": "c9ce6379-b1da-42fe-8975-f91593f22bd3",
   "metadata": {},
   "outputs": [],
   "source": []
  }
 ],
 "metadata": {
  "kernelspec": {
   "display_name": "Python 3 (ipykernel)",
   "language": "python",
   "name": "python3"
  },
  "language_info": {
   "codemirror_mode": {
    "name": "ipython",
    "version": 3
   },
   "file_extension": ".py",
   "mimetype": "text/x-python",
   "name": "python",
   "nbconvert_exporter": "python",
   "pygments_lexer": "ipython3",
   "version": "3.11.3"
  }
 },
 "nbformat": 4,
 "nbformat_minor": 5
}
